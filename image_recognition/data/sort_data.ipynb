{
 "cells": [
  {
   "cell_type": "code",
   "execution_count": 25,
   "metadata": {},
   "outputs": [],
   "source": [
    "import numpy as np\n",
    "from pigeon import annotate\n",
    "from IPython.display import display, Image\n",
    "import os\n",
    "from os import listdir, rename\n",
    "from os.path import isfile, join\n",
    "from pathlib import Path\n",
    "import shutil"
   ]
  },
  {
   "cell_type": "code",
   "execution_count": 24,
   "metadata": {},
   "outputs": [],
   "source": [
    "dir_path = r\"./all_images\"\n",
    "cont_pictures = r\"./continue/\"\n",
    "break_pictures = r\"./break/\"\n",
    "Path(cont_pictures).mkdir(parents=True, exist_ok=True)\n",
    "Path(break_pictures).mkdir(parents=True, exist_ok=True)\n",
    "files = [dir_path + \"/\" + f for f in listdir(dir_path)]"
   ]
  },
  {
   "cell_type": "code",
   "execution_count": 19,
   "metadata": {},
   "outputs": [
    {
     "data": {
      "application/vnd.jupyter.widget-view+json": {
       "model_id": "6c96f01c17cb4607b9025a67366bc396",
       "version_major": 2,
       "version_minor": 0
      },
      "text/plain": [
       "HTML(value='0 examples annotated, 23 examples left')"
      ]
     },
     "metadata": {},
     "output_type": "display_data"
    },
    {
     "data": {
      "application/vnd.jupyter.widget-view+json": {
       "model_id": "6671ab2780cc48a08cbf31e30780de12",
       "version_major": 2,
       "version_minor": 0
      },
      "text/plain": [
       "HBox(children=(Button(description='break', style=ButtonStyle()), Button(description='continue', style=ButtonSt…"
      ]
     },
     "metadata": {},
     "output_type": "display_data"
    },
    {
     "data": {
      "application/vnd.jupyter.widget-view+json": {
       "model_id": "e9e22ca0a1e04fa5b9819780fc01d861",
       "version_major": 2,
       "version_minor": 0
      },
      "text/plain": [
       "Output()"
      ]
     },
     "metadata": {},
     "output_type": "display_data"
    },
    {
     "name": "stdout",
     "output_type": "stream",
     "text": [
      "Annotation done.\n"
     ]
    }
   ],
   "source": [
    "annotations = annotate(\n",
    "  files,\n",
    "  options=['break', 'continue'],\n",
    "  display_fn=lambda filename: display(Image(filename))\n",
    ")"
   ]
  },
  {
   "cell_type": "code",
   "execution_count": 20,
   "metadata": {},
   "outputs": [
    {
     "data": {
      "text/plain": [
       "[('./all_images/chris_dunkel4WC7IC.png', 'continue'),\n",
       " ('./all_images/chris_dunkel67L7V2.png', 'continue'),\n",
       " ('./all_images/chris_dunkel8UP4TN.png', 'continue'),\n",
       " ('./all_images/chris_dunkel9APQIQ.png', 'continue'),\n",
       " ('./all_images/chris_dunkel9YY3BD.png', 'continue'),\n",
       " ('./all_images/chris_dunkelDXGJ6L.png', 'continue'),\n",
       " ('./all_images/chris_dunkelJ7URG7.png', 'continue'),\n",
       " ('./all_images/chris_dunkelJE5GAL.png', 'continue'),\n",
       " ('./all_images/chris_dunkelV7D4C0.png', 'continue'),\n",
       " ('./all_images/chris_dunkelWBAMQJ.png', 'continue'),\n",
       " ('./all_images/chris_dunkelYXY48W.png', 'continue'),\n",
       " ('./all_images/jo_dunkel7WOK0T.png', 'break'),\n",
       " ('./all_images/jo_dunkelFUIJKH.png', 'break'),\n",
       " ('./all_images/jo_dunkelKZ3ZKS.png', 'break'),\n",
       " ('./all_images/jo_dunkelNTGVN7.png', 'continue'),\n",
       " ('./all_images/jo_dunkelPRKV11.png', 'break'),\n",
       " ('./all_images/jo_dunkelU5IK5X.png', 'continue'),\n",
       " ('./all_images/jo_dunkelUTSEYN.png', 'continue'),\n",
       " ('./all_images/jo_dunkelWMEL9D.png', 'continue'),\n",
       " ('./all_images/jo_dunkelX3IE2B.png', 'break'),\n",
       " ('./all_images/jo_dunkelZS044Q.png', 'break'),\n",
       " ('./all_images/jo_dunkelZYYSAV.png', 'continue')]"
      ]
     },
     "execution_count": 20,
     "metadata": {},
     "output_type": "execute_result"
    }
   ],
   "source": [
    "annotations"
   ]
  },
  {
   "cell_type": "code",
   "execution_count": 28,
   "metadata": {},
   "outputs": [],
   "source": [
    "for labelled in annotations:\n",
    "    if labelled[1] == 'continue':\n",
    "        shutil.move(labelled[0], cont_pictures)\n",
    "    elif labelled[1] == 'break':\n",
    "        shutil.move(labelled[0], break_pictures)"
   ]
  },
  {
   "cell_type": "code",
   "execution_count": null,
   "metadata": {},
   "outputs": [],
   "source": []
  }
 ],
 "metadata": {
  "kernelspec": {
   "display_name": "Python 3",
   "language": "python",
   "name": "python3"
  },
  "language_info": {
   "codemirror_mode": {
    "name": "ipython",
    "version": 3
   },
   "file_extension": ".py",
   "mimetype": "text/x-python",
   "name": "python",
   "nbconvert_exporter": "python",
   "pygments_lexer": "ipython3",
   "version": "3.7.4"
  }
 },
 "nbformat": 4,
 "nbformat_minor": 4
}
