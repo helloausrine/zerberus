{
 "cells": [
  {
   "cell_type": "code",
   "execution_count": 2,
   "metadata": {},
   "outputs": [],
   "source": [
    "import numpy as np\n",
    "from pigeon import annotate\n",
    "from IPython.display import display, Image\n",
    "import os\n",
    "from os import listdir, rename\n",
    "from os.path import isfile, join\n",
    "from pathlib import Path\n",
    "import shutil"
   ]
  },
  {
   "cell_type": "code",
   "execution_count": 7,
   "metadata": {},
   "outputs": [],
   "source": [
    "dir_path = r\"./all_images\"\n",
    "cont_pictures = r\"./continue/\"\n",
    "break_pictures = r\"./break/\"\n",
    "Path(cont_pictures).mkdir(parents=True, exist_ok=True)\n",
    "Path(break_pictures).mkdir(parents=True, exist_ok=True)\n",
    "files = [dir_path + \"/\" + f for f in listdir(dir_path)]"
   ]
  },
  {
   "cell_type": "code",
   "execution_count": 8,
   "metadata": {},
   "outputs": [
    {
     "output_type": "display_data",
     "data": {
      "text/plain": "HTML(value='0 examples annotated, 105 examples left')",
      "application/vnd.jupyter.widget-view+json": {
       "version_major": 2,
       "version_minor": 0,
       "model_id": "9c933ae0d87a46f08146b79f6249fc8e"
      }
     },
     "metadata": {}
    },
    {
     "output_type": "display_data",
     "data": {
      "text/plain": "HBox(children=(Button(description='break', style=ButtonStyle()), Button(description='continue', style=ButtonSt…",
      "application/vnd.jupyter.widget-view+json": {
       "version_major": 2,
       "version_minor": 0,
       "model_id": "0c237d800b494e9db2242bd3f832937f"
      }
     },
     "metadata": {}
    },
    {
     "output_type": "display_data",
     "data": {
      "text/plain": "Output()",
      "application/vnd.jupyter.widget-view+json": {
       "version_major": 2,
       "version_minor": 0,
       "model_id": "3155034d09994f5fbe0f4a28f6590d51"
      }
     },
     "metadata": {}
    }
   ],
   "source": [
    "annotations = annotate(\n",
    "  files,\n",
    "  options=['break', 'continue'],\n",
    "  display_fn=lambda filename: display(Image(filename))\n",
    ")"
   ]
  },
  {
   "cell_type": "code",
   "execution_count": 9,
   "metadata": {},
   "outputs": [],
   "source": [
    "for labelled in annotations:\n",
    "    if labelled[1] == 'continue':\n",
    "        shutil.move(labelled[0], cont_pictures)\n",
    "    elif labelled[1] == 'break':\n",
    "        shutil.move(labelled[0], break_pictures)"
   ]
  },
  {
   "cell_type": "code",
   "execution_count": null,
   "metadata": {},
   "outputs": [],
   "source": []
  }
 ],
 "metadata": {
  "kernelspec": {
   "display_name": "Python 3",
   "language": "python",
   "name": "python3"
  },
  "language_info": {
   "codemirror_mode": {
    "name": "ipython",
    "version": 3
   },
   "file_extension": ".py",
   "mimetype": "text/x-python",
   "name": "python",
   "nbconvert_exporter": "python",
   "pygments_lexer": "ipython3",
   "version": "3.8.3-final"
  }
 },
 "nbformat": 4,
 "nbformat_minor": 4
}